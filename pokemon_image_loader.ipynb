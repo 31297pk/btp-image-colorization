{
 "cells": [
  {
   "cell_type": "code",
   "execution_count": null,
   "metadata": {},
   "outputs": [],
   "source": [
    "import cv2\n",
    "import numpy as np\n",
    "import matplotlib.pyplot as plt\n",
    "\n",
    "import os\n",
    "\n",
    "import time as tm"
   ]
  },
  {
   "cell_type": "code",
   "execution_count": null,
   "metadata": {},
   "outputs": [],
   "source": [
    "import config_file as config"
   ]
  },
  {
   "cell_type": "code",
   "execution_count": null,
   "metadata": {},
   "outputs": [],
   "source": [
    "train_file_names = os.listdir(config.PATHNAME+config.TRAIN_DIR_NAME)\n",
    "test_file_names = os.listdir(config.PATHNAME+config.TEST_DIR_NAME)"
   ]
  },
  {
   "cell_type": "code",
   "execution_count": null,
   "metadata": {},
   "outputs": [],
   "source": [
    "def loadSingleImage(path):\n",
    "#     loads image in 'bgr' form and converts to 'rgb' and returns rgb variant\n",
    "#     print(path)\n",
    "    img = cv2.imread(path)[:, :, ::-1]\n",
    "    return img"
   ]
  },
  {
   "cell_type": "code",
   "execution_count": null,
   "metadata": {},
   "outputs": [],
   "source": [
    "# Convert image to greyscale and returns it\n",
    "def grayConversion(image, img_format='bgr'):\n",
    "    # if in 'rgb' form convert to 'bgr'\n",
    "    if img_format == 'rgb' : img = image[:,:,::-1]\n",
    "    img = cv2.cvtColor(img, cv2.COLOR_BGR2GRAY)\n",
    "    return img\n",
    "\n",
    "# Convert image to lab space and returns it\n",
    "def LABConversion(image, img_format='bgr'):\n",
    "    if img_format == 'rgb' : img = image[:,:,::-1]\n",
    "    img = cv2.cvtColor(img, cv2.COLOR_BGR2LAB)\n",
    "    return img"
   ]
  },
  {
   "cell_type": "code",
   "execution_count": null,
   "metadata": {},
   "outputs": [],
   "source": [
    "class DataBatchGenerator():\n",
    "    def __init__(self):\n",
    "        # Setting up train and test set directories\n",
    "        self.path = config.PATHNAME\n",
    "        self.train_dir_name = config.TRAIN_DIR_NAME\n",
    "        self.test_dir_name = config.TEST_DIR_NAME\n",
    "        self.train_path = self.path + self.train_dir_name\n",
    "        self.test_path = self.path + self.test_dir_name\n",
    "        \n",
    "        # File names\n",
    "        self.train_file_names = train_file_names\n",
    "        self.test_file_names = test_file_names\n",
    "        \n",
    "        # Setting up train and test parameters\n",
    "        self.num_images_train = config.NUM_TRAIN_IMAGES\n",
    "        self.num_images_test = config.NUM_TEST_IMAGES\n",
    "\n",
    "        # Setting up batch parameters\n",
    "        self.batch_size = config.BATCH_SIZE\n",
    "        \n",
    "        # Setting out labels\n",
    "        self.labels = config.LABELS_DATASET # It must be one-hot-encoded\n",
    "        self.label_names = config.LABEL_NAMES\n",
    "        return\n",
    "    \n",
    "    def get_train_data_batch(self, batch_size=None):        \n",
    "        \n",
    "        batch_size = self.batch_size if batch_size is None else batch_size\n",
    "        \n",
    "        random_indices = np.random.randint(0, self.num_images_train, size=[batch_size])\n",
    "        \n",
    "        lab_batch = []\n",
    "        gray_batch = []\n",
    "        indices = []\n",
    "        labels_batch = []\n",
    "        for index in random_indices:\n",
    "            \n",
    "            # Load one single image\n",
    "            img = loadSingleImage(self.train_path+self.train_file_names[index])\n",
    "\n",
    "            indices.append(index)\n",
    "            lab_batch.append(LABConversion(img, img_format='rgb'))\n",
    "            gray_batch.append(grayConversion(img, img_format='rgb'))\n",
    "            labels_batch.append(config.LABELS_DATASET[index-1])\n",
    "            \n",
    "        return {\n",
    "            'index':np.array(indices),\n",
    "            'lab_batch':np.array(lab_batch),\n",
    "            'gray_batch':np.array(gray_batch),\n",
    "            'labels':np.array(labels_batch, dtype=np.uint8)\n",
    "        }\n",
    "    \n",
    "    \n",
    "    def get_test_data_batch(self, batch_size=None):   \n",
    "        \n",
    "        batch_size = self.batch_size if batch_size is None else batch_size\n",
    "        \n",
    "        random_indices = np.random.randint(0, self.num_images_test, size=[batch_size])\n",
    "        \n",
    "        lab_batch = []\n",
    "        gray_batch = []\n",
    "        indices = []\n",
    "        labels_batch = []\n",
    "        for index in random_indices:\n",
    "            \n",
    "            # Load one single image\n",
    "            img = loadSingleImage(self.test_path+self.test_file_names[index])\n",
    "\n",
    "            indices.append(index)\n",
    "            lab_batch.append(LABConversion(img, img_format='rgb'))\n",
    "            gray_batch.append(grayConversion(img, img_format='rgb'))\n",
    "            labels_batch.append(config.LABELS_DATASET[index-1])\n",
    "            \n",
    "        return {\n",
    "            'index':np.array(indices),\n",
    "            'lab_batch':np.array(lab_batch),\n",
    "            'gray_batch':np.array(gray_batch),\n",
    "            'labels':np.array(labels_batch, dtype=np.uint8)\n",
    "        }"
   ]
  },
  {
   "cell_type": "code",
   "execution_count": null,
   "metadata": {},
   "outputs": [],
   "source": []
  },
  {
   "cell_type": "code",
   "execution_count": null,
   "metadata": {},
   "outputs": [],
   "source": []
  }
 ],
 "metadata": {
  "kernelspec": {
   "display_name": "Python 3",
   "language": "python",
   "name": "python3"
  },
  "language_info": {
   "codemirror_mode": {
    "name": "ipython",
    "version": 3
   },
   "file_extension": ".py",
   "mimetype": "text/x-python",
   "name": "python",
   "nbconvert_exporter": "python",
   "pygments_lexer": "ipython3",
   "version": "3.6.5"
  }
 },
 "nbformat": 4,
 "nbformat_minor": 2
}
